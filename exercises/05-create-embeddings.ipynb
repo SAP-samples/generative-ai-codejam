{
 "cells": [
  {
   "cell_type": "markdown",
   "metadata": {},
   "source": [
    "# Create embeddings with Generative AI Hub\n",
    "Like any other machine learning model, also foundation models only work with numbers. In the context of generative AI, these numbers are embeddings. Embeddings are numerical representations of unstructured data, such as text and images. The text embedding model of OpenAI `text-embedding-ada-002` for example turns your input text into 1536 numbers. That is a vector with 1536 dimensions.\n",
    "\n",
    "👉 Select the kernel again. Make sure to select the same virtual environment as in the previous exercise so that all your packages are installed."
   ]
  },
  {
   "cell_type": "code",
   "execution_count": 1,
   "metadata": {},
   "outputs": [],
   "source": [
    "import os\n",
    "import json\n",
    "import variables\n",
    "\n",
    "with open('/home/user/projects/generative-ai-codejam/.aicore-config.json', 'r') as config_file:\n",
    "    config_data = json.load(config_file)\n",
    "\n",
    "os.environ[\"AICORE_AUTH_URL\"]=config_data[\"url\"]+\"/oauth/token\"\n",
    "os.environ[\"AICORE_CLIENT_ID\"]=config_data[\"clientid\"]\n",
    "os.environ[\"AICORE_CLIENT_SECRET\"]=config_data[\"clientsecret\"]\n",
    "os.environ[\"AICORE_BASE_URL\"]=config_data[\"serviceurls\"][\"AI_API_URL\"]\n",
    "\n",
    "#Update the resource group to match yours\n",
    "os.environ[\"AICORE_RESOURCE_GROUP\"]=\"team-sap\"\n",
    "\n",
    "from gen_ai_hub.proxy.native.openai import embeddings"
   ]
  },
  {
   "cell_type": "markdown",
   "metadata": {},
   "source": [
    "## Create embeddings\n",
    "Define the method **get_embedding()**."
   ]
  },
  {
   "cell_type": "code",
   "execution_count": 2,
   "metadata": {},
   "outputs": [],
   "source": [
    "def get_embedding(input_text):\n",
    "    response = embeddings.create(\n",
    "        input=input_text,            \n",
    "        model_name=\"text-embedding-ada-002\"\n",
    "    )\n",
    "    embedding = response.data[0].embedding\n",
    "    return embedding\n"
   ]
  },
  {
   "cell_type": "markdown",
   "metadata": {},
   "source": [
    "Get embeddings for the words: **apple, orange, phone** and for the phrases: **I love dogs, I love animals, I hate cats.**"
   ]
  },
  {
   "cell_type": "code",
   "execution_count": null,
   "metadata": {},
   "outputs": [],
   "source": [
    "apple_embedding = get_embedding(\"apple\")\n",
    "orange_embedding = get_embedding(\"orange\")\n",
    "phone_embedding = get_embedding(\"phone\")\n",
    "dog_embedding = get_embedding(\"I love dogs\")\n",
    "animals_embedding = get_embedding(\"I love animals\")\n",
    "cat_embedding = get_embedding(\"I hate cats\")\n",
    "\n",
    "print(apple_embedding)"
   ]
  },
  {
   "cell_type": "markdown",
   "metadata": {},
   "source": [
    "## Calculate Vector Similarities\n",
    "To calculate the cosine similarity of the vectors, we also need the [SciPy](https://scipy.org/) package. SciPy contains many fundamental algorithms for scientific computing.\n",
    "\n",
    "Cosine similarity is used to measure the distance between two vectors. The closer the two vectors are, the higher the similarity between the embedded texts.\n",
    "\n",
    "👉 Import the SciPy package and define the method **get_cosine_similarity()**."
   ]
  },
  {
   "cell_type": "code",
   "execution_count": 4,
   "metadata": {},
   "outputs": [],
   "source": [
    "from scipy import spatial\n",
    "\n",
    "def get_cosine_similarity(vector_1, vector_2):\n",
    "    return 1 - spatial.distance.cosine(vector_1, vector_2)"
   ]
  },
  {
   "cell_type": "markdown",
   "metadata": {},
   "source": [
    "👉 Calculate similarities between the embeddings of the words and phrases from above and find the most similar vectors. You can follow the example below."
   ]
  },
  {
   "cell_type": "code",
   "execution_count": null,
   "metadata": {},
   "outputs": [],
   "source": [
    "print(\"apple-orange\")\n",
    "print(get_cosine_similarity(apple_embedding, orange_embedding))"
   ]
  },
  {
   "cell_type": "markdown",
   "metadata": {},
   "source": [
    "[Next exercise](06-store-embeddings-hana.ipynb)"
   ]
  }
 ],
 "metadata": {
  "kernelspec": {
   "display_name": "Python 3",
   "language": "python",
   "name": "python3"
  },
  "language_info": {
   "codemirror_mode": {
    "name": "ipython",
    "version": 3
   },
   "file_extension": ".py",
   "mimetype": "text/x-python",
   "name": "python",
   "nbconvert_exporter": "python",
   "pygments_lexer": "ipython3",
   "version": "3.11.2"
  }
 },
 "nbformat": 4,
 "nbformat_minor": 2
}
