{
 "cells": [
  {
   "cell_type": "markdown",
   "metadata": {},
   "source": [
    "## Check your Connection to Generative AI Hub\n",
    "\n",
    "To connect to generative AI Hub we will use the Python SDK. You can access the package information here: [Python SDK](https://pypi.org/project/generative-ai-hub-sdk/)"
   ]
  },
  {
   "cell_type": "code",
   "execution_count": null,
   "metadata": {},
   "outputs": [],
   "source": [
    "from gen_ai_hub.proxy.native.openai import embeddings\n",
    "from scipy import spatial"
   ]
  },
  {
   "cell_type": "code",
   "execution_count": null,
   "metadata": {},
   "outputs": [],
   "source": [
    "def get_embedding(input_text):\n",
    "    response = embeddings.create(\n",
    "        input=input_text,            \n",
    "        model_name=\"text-embedding-ada-002\"\n",
    "    )\n",
    "    embedding = response.data[0].embedding\n",
    "    return embedding\n"
   ]
  },
  {
   "cell_type": "code",
   "execution_count": null,
   "metadata": {},
   "outputs": [],
   "source": [
    "def get_cosine_similarity(vector_1, vector_2):\n",
    "    return 1 - spatial.distance.cosine(vector_1, vector_2)"
   ]
  },
  {
   "cell_type": "code",
   "execution_count": null,
   "metadata": {},
   "outputs": [],
   "source": [
    "apple_embedding = get_embedding(\"apple\")\n",
    "orange_embedding = get_embedding(\"orange\")\n",
    "phone_embedding = get_embedding(\"phone\")\n",
    "dog_embedding = get_embedding(\"I love dogs\")\n",
    "animals_embedding = get_embedding(\"I love animals\")\n",
    "cat_embedding = get_embedding(\"I hate cats\")"
   ]
  },
  {
   "cell_type": "code",
   "execution_count": null,
   "metadata": {},
   "outputs": [],
   "source": [
    "print(\"apple-orange, apple-phone, orange-phone\")\n",
    "print(get_cosine_similarity(apple_embedding, orange_embedding))\n",
    "print(get_cosine_similarity(apple_embedding, phone_embedding))\n",
    "print(get_cosine_similarity(orange_embedding, phone_embedding))\n",
    "print(\"lovedogs-loveanimals, lovedogs-hatecats\")\n",
    "print(get_cosine_similarity(dog_embedding, animals_embedding))\n",
    "print(get_cosine_similarity(dog_embedding, cat_embedding))"
   ]
  }
 ],
 "metadata": {
  "language_info": {
   "name": "python"
  }
 },
 "nbformat": 4,
 "nbformat_minor": 2
}
