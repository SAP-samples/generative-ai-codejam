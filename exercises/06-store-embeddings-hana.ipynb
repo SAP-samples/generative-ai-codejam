{
 "cells": [
  {
   "cell_type": "markdown",
   "metadata": {},
   "source": [
    "# Store Embeddings for a Retrieval Augmented Generation (RAG) Use Case\n",
    "RAG is especially useful for question answering use cases that involve a lot of unstructured documents with important information. Let's implement a RAG use case so that next time we ask about an **SAP AI Service** we get the correct response! Therefore, we need to vectorize our context documents. You can find the documents to vectorize and store as embeddings in **SAP HANA Cloud Vector Engine** in the directory **documents**.\n",
    "\n",
    "## LangChain\n",
    "The **Generative AI Hub Python SDK** is compatible with the [**LangChain**](https://python.langchain.com/v0.1/docs/get_started/introduction) **library**. **LangChain** is a tool for building apps that use large language models, like GPT models. It's useful because it helps manage and link different models, tools and data, making it easier to create complex AI workflows."
   ]
  },
  {
   "cell_type": "code",
   "execution_count": null,
   "metadata": {},
   "outputs": [],
   "source": [
    "from gen_ai_hub.proxy.langchain.openai import OpenAIEmbeddings\n",
    "\n",
    "from langchain.text_splitter import RecursiveCharacterTextSplitter\n",
    "from langchain_community.document_loaders import TextLoader\n",
    "\n",
    "from langchain_community.vectorstores.hanavector import HanaDB\n",
    "from hdbcli import dbapi\n",
    "\n",
    "import configparser"
   ]
  },
  {
   "cell_type": "markdown",
   "metadata": {},
   "source": [
    "👉 Change the **EMBEDDING_DEPLOYMENT_ID** to your deployment ID from exercise [01-deploy-model](01-deploy-model.md).\n",
    "\n",
    "👉 SET the **EMBEDDING_TABLE** to **\"EMBEDDINGS_SAP_AI_SERVICES_>add your name here<\"**"
   ]
  },
  {
   "cell_type": "code",
   "execution_count": null,
   "metadata": {},
   "outputs": [],
   "source": [
    "\n",
    "EMBEDDING_DEPLOYMENT_ID = \"d7b8e46fc3d5c25f\"\n",
    "EMBEDDING_TABLE = \"\""
   ]
  },
  {
   "cell_type": "markdown",
   "metadata": {},
   "source": [
    "👉 Create a **.user.ini** file with the HANA login information."
   ]
  },
  {
   "cell_type": "code",
   "execution_count": null,
   "metadata": {},
   "outputs": [],
   "source": [
    "config = configparser.ConfigParser()\n",
    "config.read('.user.ini')\n",
    "connection = dbapi.connect(\n",
    "    address=config.get('hana', 'url'), \n",
    "    port=config.get('hana', 'port'), \n",
    "    user=config.get('hana', 'user'),\n",
    "    password=config.get('hana', 'passwd'),\n",
    "    autocommit=True,\n",
    "    sslValidateCertificate=False\n",
    ")"
   ]
  },
  {
   "cell_type": "markdown",
   "metadata": {},
   "source": [
    "## Chunking of the documents\n",
    "Before we can create embeddings for our documents, we need to chunk them up into smaller text pieces, so called **chunks**. We are using the **Recursive Character Text Splitter** from **langchain** which will chunk the documents into chunks of size 500 using the default characters to split: [\"\\n\\n\", \"\\n\", \" \", \"\"]."
   ]
  },
  {
   "cell_type": "code",
   "execution_count": null,
   "metadata": {},
   "outputs": [],
   "source": [
    "\n",
    "# Load custom documents\n",
    "loader = TextLoader('documents/SAP-Help-Data-Attribute-Recommendation.pdf')\n",
    "documents = loader.load()\n",
    "text_splitter = RecursiveCharacterTextSplitter(chunk_size=500, chunk_overlap=0)\n",
    "texts = text_splitter.split_documents(documents)\n",
    "print(f\"Number of document chunks: {len(texts)}\")\n"
   ]
  },
  {
   "cell_type": "markdown",
   "metadata": {},
   "source": [
    "Now we can connect to our **SAP HANA Cloud Vector Engine** and store the embeddings for our text chunks."
   ]
  },
  {
   "cell_type": "code",
   "execution_count": null,
   "metadata": {},
   "outputs": [],
   "source": [
    "# Create embeddings for custom documents\n",
    "embeddings = OpenAIEmbeddings(deployment_id=EMBEDDING_DEPLOYMENT_ID)\n",
    "db = HanaDB(\n",
    "    embedding=embeddings, connection=connection, table_name=EMBEDDING_TABLE\n",
    ")\n",
    "\n",
    "# Delete already existing documents from the table\n",
    "db.delete(filter={})\n",
    "\n",
    "# add the loaded document chunks\n",
    "db.add_documents(texts)"
   ]
  },
  {
   "cell_type": "markdown",
   "metadata": {},
   "source": [
    "## Check the embeddings in SAP HANA Cloud Vector Engine\n",
    "\n",
    "👉 Open the [HANA Cloud Database Explorer](https://central-hana-cloud-instance-us-77belmsm.hana-tooling.ingress.orchestration.prod-us10.hanacloud.ondemand.com/hrtt/sap/hana/cst/catalog/cockpit-index.html?target=sqlconsole&databaseid=C2366),\n",
    "\n",
    "👉 log in with the **Default Identity Provider** and the **HANA user and password** provided by the instructor\n",
    "\n",
    "👉 and run the following query:\n",
    "\n",
    "```sql\n",
    "SELECT VEC_TEXT, VEC_META, TO_NVARCHAR(VEC_VECTOR) FROM EMBEDDINGS_SHAWKING\n",
    "```\n",
    "![HANA Vector Engine](images/select_embedding_table.png)\n"
   ]
  }
 ],
 "metadata": {
  "language_info": {
   "name": "python"
  }
 },
 "nbformat": 4,
 "nbformat_minor": 2
}
