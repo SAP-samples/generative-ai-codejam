{
 "cells": [
  {
   "cell_type": "markdown",
   "metadata": {},
   "source": [
    "# Use Multimodal Models\n",
    "\n",
    "This exercise is optional if you have more time and would like to try out multimodal models. Multimodal models can use different inputs such as text, audio and images. In Generative AI Hub on SAP AI Core you can access `gpt-4o` which is multimodal.\n",
    "\n",
    "👉 Go back to [01-deploy-model](01-deploy-model.md) to deploy gpt-4o.\n",
    "\n",
    "👉 Then assign the deployment id to the `DEPLOYMENT_ID_MULTIMODAL` in [variables.py](variables.py).\n",
    "\n",
    "👉 Now run the code snippet below to get a description for the AI Foundation Architecture. These descriptions can then for example be used as alternative text for screen readers or other assistive tech."
   ]
  },
  {
   "cell_type": "code",
   "execution_count": 2,
   "metadata": {},
   "outputs": [
    {
     "ename": "SchemaError",
     "evalue": "Invalid Schema:\nmodel.config.extra_fields_behavior\n  Input should be 'allow', 'forbid' or 'ignore' [type=literal_error, input_value=<Extra.forbid: 'forbid'>, input_type=Extra]\n    For further information visit https://errors.pydantic.dev/2.9/v/literal_error",
     "output_type": "error",
     "traceback": [
      "\u001b[0;31m---------------------------------------------------------------------------\u001b[0m",
      "\u001b[0;31mSchemaError\u001b[0m                               Traceback (most recent call last)",
      "Cell \u001b[0;32mIn[2], line 15\u001b[0m\n\u001b[1;32m     13\u001b[0m \u001b[39mimport\u001b[39;00m \u001b[39mbase64\u001b[39;00m\n\u001b[1;32m     14\u001b[0m \u001b[39mimport\u001b[39;00m \u001b[39mvariables\u001b[39;00m\n\u001b[0;32m---> 15\u001b[0m \u001b[39mfrom\u001b[39;00m \u001b[39mgen_ai_hub\u001b[39;00m\u001b[39m.\u001b[39;00m\u001b[39mproxy\u001b[39;00m\u001b[39m.\u001b[39;00m\u001b[39mlangchain\u001b[39;00m\u001b[39m.\u001b[39;00m\u001b[39mopenai\u001b[39;00m \u001b[39mimport\u001b[39;00m ChatOpenAI\n\u001b[1;32m     17\u001b[0m \u001b[39mwith\u001b[39;00m \u001b[39mopen\u001b[39m(\u001b[39m\"\u001b[39m\u001b[39mdocuments/ai-foundation-architecture.png\u001b[39m\u001b[39m\"\u001b[39m, \u001b[39m\"\u001b[39m\u001b[39mrb\u001b[39m\u001b[39m\"\u001b[39m) \u001b[39mas\u001b[39;00m image_file:\n\u001b[1;32m     18\u001b[0m     image_data \u001b[39m=\u001b[39m base64\u001b[39m.\u001b[39mb64encode(image_file\u001b[39m.\u001b[39mread())\u001b[39m.\u001b[39mdecode(\u001b[39m'\u001b[39m\u001b[39mutf-8\u001b[39m\u001b[39m'\u001b[39m)\n",
      "File \u001b[0;32m~/projects/generative-ai-codejam/.venv/lib/python3.11/site-packages/gen_ai_hub/proxy/langchain/__init__.py:1\u001b[0m\n\u001b[0;32m----> 1\u001b[0m \u001b[39mfrom\u001b[39;00m \u001b[39m.\u001b[39;00m\u001b[39mamazon\u001b[39;00m \u001b[39mimport\u001b[39;00m ChatBedrock\n\u001b[1;32m      2\u001b[0m \u001b[39mfrom\u001b[39;00m \u001b[39m.\u001b[39;00m\u001b[39mgoogle_vertexai\u001b[39;00m \u001b[39mimport\u001b[39;00m ChatVertexAI\n\u001b[1;32m      3\u001b[0m \u001b[39mfrom\u001b[39;00m \u001b[39m.\u001b[39;00m\u001b[39mopenai\u001b[39;00m \u001b[39mimport\u001b[39;00m ChatOpenAI, OpenAI, OpenAIEmbeddings\n",
      "File \u001b[0;32m~/projects/generative-ai-codejam/.venv/lib/python3.11/site-packages/gen_ai_hub/proxy/langchain/amazon.py:5\u001b[0m\n\u001b[1;32m      2\u001b[0m \u001b[39mfrom\u001b[39;00m \u001b[39mtyping\u001b[39;00m \u001b[39mimport\u001b[39;00m Dict, Optional, List\n\u001b[1;32m      4\u001b[0m \u001b[39mfrom\u001b[39;00m \u001b[39mlangchain\u001b[39;00m\u001b[39m.\u001b[39;00m\u001b[39mpydantic_v1\u001b[39;00m \u001b[39mimport\u001b[39;00m Extra, root_validator\n\u001b[0;32m----> 5\u001b[0m \u001b[39mfrom\u001b[39;00m \u001b[39mlangchain_aws\u001b[39;00m \u001b[39mimport\u001b[39;00m ChatBedrock \u001b[39mas\u001b[39;00m ChatBedrock_\n\u001b[1;32m      6\u001b[0m \u001b[39mfrom\u001b[39;00m \u001b[39mlangchain_community\u001b[39;00m\u001b[39m.\u001b[39;00m\u001b[39membeddings\u001b[39;00m \u001b[39mimport\u001b[39;00m BedrockEmbeddings \u001b[39mas\u001b[39;00m BedrockEmbeddings_\n\u001b[1;32m      7\u001b[0m \u001b[39mfrom\u001b[39;00m \u001b[39mlangchain_core\u001b[39;00m\u001b[39m.\u001b[39;00m\u001b[39mpydantic_v1\u001b[39;00m \u001b[39mimport\u001b[39;00m BaseModel\n",
      "File \u001b[0;32m~/projects/generative-ai-codejam/.venv/lib/python3.11/site-packages/langchain_aws/__init__.py:1\u001b[0m\n\u001b[0;32m----> 1\u001b[0m \u001b[39mfrom\u001b[39;00m \u001b[39mlangchain_aws\u001b[39;00m\u001b[39m.\u001b[39;00m\u001b[39mchat_models\u001b[39;00m \u001b[39mimport\u001b[39;00m BedrockChat, ChatBedrock\n\u001b[1;32m      2\u001b[0m \u001b[39mfrom\u001b[39;00m \u001b[39mlangchain_aws\u001b[39;00m\u001b[39m.\u001b[39;00m\u001b[39membeddings\u001b[39;00m \u001b[39mimport\u001b[39;00m BedrockEmbeddings\n\u001b[1;32m      3\u001b[0m \u001b[39mfrom\u001b[39;00m \u001b[39mlangchain_aws\u001b[39;00m\u001b[39m.\u001b[39;00m\u001b[39mgraphs\u001b[39;00m \u001b[39mimport\u001b[39;00m NeptuneAnalyticsGraph, NeptuneGraph\n",
      "File \u001b[0;32m~/projects/generative-ai-codejam/.venv/lib/python3.11/site-packages/langchain_aws/chat_models/__init__.py:1\u001b[0m\n\u001b[0;32m----> 1\u001b[0m \u001b[39mfrom\u001b[39;00m \u001b[39mlangchain_aws\u001b[39;00m\u001b[39m.\u001b[39;00m\u001b[39mchat_models\u001b[39;00m\u001b[39m.\u001b[39;00m\u001b[39mbedrock\u001b[39;00m \u001b[39mimport\u001b[39;00m BedrockChat, ChatBedrock\n\u001b[1;32m      3\u001b[0m __all__ \u001b[39m=\u001b[39m [\u001b[39m\"\u001b[39m\u001b[39mBedrockChat\u001b[39m\u001b[39m\"\u001b[39m, \u001b[39m\"\u001b[39m\u001b[39mChatBedrock\u001b[39m\u001b[39m\"\u001b[39m]\n",
      "File \u001b[0;32m~/projects/generative-ai-codejam/.venv/lib/python3.11/site-packages/langchain_aws/chat_models/bedrock.py:47\u001b[0m\n\u001b[1;32m     38\u001b[0m \u001b[39mfrom\u001b[39;00m \u001b[39mlangchain_core\u001b[39;00m\u001b[39m.\u001b[39;00m\u001b[39mtools\u001b[39;00m \u001b[39mimport\u001b[39;00m BaseTool\n\u001b[1;32m     40\u001b[0m \u001b[39mfrom\u001b[39;00m \u001b[39mlangchain_aws\u001b[39;00m\u001b[39m.\u001b[39;00m\u001b[39mfunction_calling\u001b[39;00m \u001b[39mimport\u001b[39;00m (\n\u001b[1;32m     41\u001b[0m     ToolsOutputParser,\n\u001b[1;32m     42\u001b[0m     _lc_tool_calls_to_anthropic_tool_use_blocks,\n\u001b[0;32m   (...)\u001b[0m\n\u001b[1;32m     45\u001b[0m     get_system_message,\n\u001b[1;32m     46\u001b[0m )\n\u001b[0;32m---> 47\u001b[0m \u001b[39mfrom\u001b[39;00m \u001b[39mlangchain_aws\u001b[39;00m\u001b[39m.\u001b[39;00m\u001b[39mllms\u001b[39;00m\u001b[39m.\u001b[39;00m\u001b[39mbedrock\u001b[39;00m \u001b[39mimport\u001b[39;00m (\n\u001b[1;32m     48\u001b[0m     BedrockBase,\n\u001b[1;32m     49\u001b[0m     _combine_generation_info_for_llm_result,\n\u001b[1;32m     50\u001b[0m )\n\u001b[1;32m     51\u001b[0m \u001b[39mfrom\u001b[39;00m \u001b[39mlangchain_aws\u001b[39;00m\u001b[39m.\u001b[39;00m\u001b[39mutils\u001b[39;00m \u001b[39mimport\u001b[39;00m (\n\u001b[1;32m     52\u001b[0m     get_num_tokens_anthropic,\n\u001b[1;32m     53\u001b[0m     get_token_ids_anthropic,\n\u001b[1;32m     54\u001b[0m )\n\u001b[1;32m     57\u001b[0m \u001b[39mdef\u001b[39;00m \u001b[39m_convert_one_message_to_text_llama\u001b[39m(message: BaseMessage) \u001b[39m-\u001b[39m\u001b[39m>\u001b[39m \u001b[39mstr\u001b[39m:\n",
      "File \u001b[0;32m~/projects/generative-ai-codejam/.venv/lib/python3.11/site-packages/langchain_aws/llms/__init__.py:1\u001b[0m\n\u001b[0;32m----> 1\u001b[0m \u001b[39mfrom\u001b[39;00m \u001b[39mlangchain_aws\u001b[39;00m\u001b[39m.\u001b[39;00m\u001b[39mllms\u001b[39;00m\u001b[39m.\u001b[39;00m\u001b[39mbedrock\u001b[39;00m \u001b[39mimport\u001b[39;00m (\n\u001b[1;32m      2\u001b[0m     ALTERNATION_ERROR,\n\u001b[1;32m      3\u001b[0m     Bedrock,\n\u001b[1;32m      4\u001b[0m     BedrockBase,\n\u001b[1;32m      5\u001b[0m     BedrockLLM,\n\u001b[1;32m      6\u001b[0m     LLMInputOutputAdapter,\n\u001b[1;32m      7\u001b[0m )\n\u001b[1;32m      8\u001b[0m \u001b[39mfrom\u001b[39;00m \u001b[39mlangchain_aws\u001b[39;00m\u001b[39m.\u001b[39;00m\u001b[39mllms\u001b[39;00m\u001b[39m.\u001b[39;00m\u001b[39msagemaker_endpoint\u001b[39;00m \u001b[39mimport\u001b[39;00m SagemakerEndpoint\n\u001b[1;32m     10\u001b[0m __all__ \u001b[39m=\u001b[39m [\n\u001b[1;32m     11\u001b[0m     \u001b[39m\"\u001b[39m\u001b[39mALTERNATION_ERROR\u001b[39m\u001b[39m\"\u001b[39m,\n\u001b[1;32m     12\u001b[0m     \u001b[39m\"\u001b[39m\u001b[39mBedrock\u001b[39m\u001b[39m\"\u001b[39m,\n\u001b[0;32m   (...)\u001b[0m\n\u001b[1;32m     16\u001b[0m     \u001b[39m\"\u001b[39m\u001b[39mSagemakerEndpoint\u001b[39m\u001b[39m\"\u001b[39m,\n\u001b[1;32m     17\u001b[0m ]\n",
      "File \u001b[0;32m~/projects/generative-ai-codejam/.venv/lib/python3.11/site-packages/langchain_aws/llms/bedrock.py:879\u001b[0m\n\u001b[1;32m    875\u001b[0m             \u001b[39melif\u001b[39;00m run_manager \u001b[39mis\u001b[39;00m \u001b[39mnot\u001b[39;00m \u001b[39mNone\u001b[39;00m:\n\u001b[1;32m    876\u001b[0m                 run_manager\u001b[39m.\u001b[39mon_llm_new_token(chunk\u001b[39m.\u001b[39mtext, chunk\u001b[39m=\u001b[39mchunk)  \u001b[39m# type: ignore[unused-coroutine]\u001b[39;00m\n\u001b[0;32m--> 879\u001b[0m \u001b[39mclass\u001b[39;49;00m \u001b[39mBedrockLLM\u001b[39;49;00m(LLM, BedrockBase):\n\u001b[1;32m    880\u001b[0m \u001b[39m    \u001b[39;49m\u001b[39m\"\"\"Bedrock models.\u001b[39;49;00m\n\u001b[1;32m    881\u001b[0m \n\u001b[1;32m    882\u001b[0m \u001b[39m    To authenticate, the AWS client uses the following methods to\u001b[39;49;00m\n\u001b[0;32m   (...)\u001b[0m\n\u001b[1;32m    890\u001b[0m \u001b[39m    access the Bedrock service.\u001b[39;49;00m\n\u001b[1;32m    891\u001b[0m \u001b[39m    \"\"\"\u001b[39;49;00m\n\u001b[1;32m    893\u001b[0m \u001b[39m    \u001b[39;49m\u001b[39m\"\"\"\u001b[39;49;00m\n\u001b[1;32m    894\u001b[0m \u001b[39m    Example:\u001b[39;49;00m\n\u001b[1;32m    895\u001b[0m \u001b[39m        .. code-block:: python\u001b[39;49;00m\n\u001b[0;32m   (...)\u001b[0m\n\u001b[1;32m    904\u001b[0m \n\u001b[1;32m    905\u001b[0m \u001b[39m    \"\"\"\u001b[39;49;00m\n",
      "File \u001b[0;32m~/projects/generative-ai-codejam/.venv/lib/python3.11/site-packages/pydantic/_internal/_model_construction.py:224\u001b[0m, in \u001b[0;36mModelMetaclass.__new__\u001b[0;34m(mcs, cls_name, bases, namespace, __pydantic_generic_metadata__, __pydantic_reset_parent_namespace__, _create_model_module, **kwargs)\u001b[0m\n\u001b[1;32m    221\u001b[0m \u001b[39mif\u001b[39;00m config_wrapper\u001b[39m.\u001b[39mfrozen \u001b[39mand\u001b[39;00m \u001b[39m'\u001b[39m\u001b[39m__hash__\u001b[39m\u001b[39m'\u001b[39m \u001b[39mnot\u001b[39;00m \u001b[39min\u001b[39;00m namespace:\n\u001b[1;32m    222\u001b[0m     set_default_hash_func(\u001b[39mcls\u001b[39m, bases)\n\u001b[0;32m--> 224\u001b[0m complete_model_class(\n\u001b[1;32m    225\u001b[0m     \u001b[39mcls\u001b[39;49m,\n\u001b[1;32m    226\u001b[0m     cls_name,\n\u001b[1;32m    227\u001b[0m     config_wrapper,\n\u001b[1;32m    228\u001b[0m     raise_errors\u001b[39m=\u001b[39;49m\u001b[39mFalse\u001b[39;49;00m,\n\u001b[1;32m    229\u001b[0m     types_namespace\u001b[39m=\u001b[39;49mtypes_namespace,\n\u001b[1;32m    230\u001b[0m     create_model_module\u001b[39m=\u001b[39;49m_create_model_module,\n\u001b[1;32m    231\u001b[0m )\n\u001b[1;32m    233\u001b[0m \u001b[39m# If this is placed before the complete_model_class call above,\u001b[39;00m\n\u001b[1;32m    234\u001b[0m \u001b[39m# the generic computed fields return type is set to PydanticUndefined\u001b[39;00m\n\u001b[1;32m    235\u001b[0m \u001b[39mcls\u001b[39m\u001b[39m.\u001b[39mmodel_computed_fields \u001b[39m=\u001b[39m {k: v\u001b[39m.\u001b[39minfo \u001b[39mfor\u001b[39;00m k, v \u001b[39min\u001b[39;00m \u001b[39mcls\u001b[39m\u001b[39m.\u001b[39m__pydantic_decorators__\u001b[39m.\u001b[39mcomputed_fields\u001b[39m.\u001b[39mitems()}\n",
      "File \u001b[0;32m~/projects/generative-ai-codejam/.venv/lib/python3.11/site-packages/pydantic/_internal/_model_construction.py:583\u001b[0m, in \u001b[0;36mcomplete_model_class\u001b[0;34m(cls, cls_name, config_wrapper, raise_errors, types_namespace, create_model_module)\u001b[0m\n\u001b[1;32m    580\u001b[0m core_config \u001b[39m=\u001b[39m config_wrapper\u001b[39m.\u001b[39mcore_config(\u001b[39mcls\u001b[39m)\n\u001b[1;32m    582\u001b[0m \u001b[39mtry\u001b[39;00m:\n\u001b[0;32m--> 583\u001b[0m     schema \u001b[39m=\u001b[39m gen_schema\u001b[39m.\u001b[39;49mclean_schema(schema)\n\u001b[1;32m    584\u001b[0m \u001b[39mexcept\u001b[39;00m gen_schema\u001b[39m.\u001b[39mCollectedInvalid:\n\u001b[1;32m    585\u001b[0m     set_model_mocks(\u001b[39mcls\u001b[39m, cls_name)\n",
      "File \u001b[0;32m~/projects/generative-ai-codejam/.venv/lib/python3.11/site-packages/pydantic/_internal/_generate_schema.py:595\u001b[0m, in \u001b[0;36mGenerateSchema.clean_schema\u001b[0;34m(self, schema)\u001b[0m\n\u001b[1;32m    593\u001b[0m     \u001b[39mraise\u001b[39;00m \u001b[39mself\u001b[39m\u001b[39m.\u001b[39mCollectedInvalid()\n\u001b[1;32m    594\u001b[0m schema \u001b[39m=\u001b[39m _discriminated_union\u001b[39m.\u001b[39mapply_discriminators(schema)\n\u001b[0;32m--> 595\u001b[0m schema \u001b[39m=\u001b[39m validate_core_schema(schema)\n\u001b[1;32m    596\u001b[0m \u001b[39mreturn\u001b[39;00m schema\n",
      "File \u001b[0;32m~/projects/generative-ai-codejam/.venv/lib/python3.11/site-packages/pydantic/_internal/_core_utils.py:570\u001b[0m, in \u001b[0;36mvalidate_core_schema\u001b[0;34m(schema)\u001b[0m\n\u001b[1;32m    568\u001b[0m \u001b[39mif\u001b[39;00m \u001b[39m'\u001b[39m\u001b[39mPYDANTIC_SKIP_VALIDATING_CORE_SCHEMAS\u001b[39m\u001b[39m'\u001b[39m \u001b[39min\u001b[39;00m os\u001b[39m.\u001b[39menviron:\n\u001b[1;32m    569\u001b[0m     \u001b[39mreturn\u001b[39;00m schema\n\u001b[0;32m--> 570\u001b[0m \u001b[39mreturn\u001b[39;00m _validate_core_schema(schema)\n",
      "\u001b[0;31mSchemaError\u001b[0m: Invalid Schema:\nmodel.config.extra_fields_behavior\n  Input should be 'allow', 'forbid' or 'ignore' [type=literal_error, input_value=<Extra.forbid: 'forbid'>, input_type=Extra]\n    For further information visit https://errors.pydantic.dev/2.9/v/literal_error"
     ]
    }
   ],
   "source": [
    "import os\n",
    "import json\n",
    "\n",
    "with open('/home/user/projects/generative-ai-codejam/.aicore-config.json', 'r') as config_file:\n",
    "    config_data = json.load(config_file)\n",
    "\n",
    "os.environ[\"AICORE_AUTH_URL\"]=config_data[\"url\"]+\"/oauth/token\"\n",
    "os.environ[\"AICORE_CLIENT_ID\"]=config_data[\"clientid\"]\n",
    "os.environ[\"AICORE_CLIENT_SECRET\"]=config_data[\"clientsecret\"]\n",
    "os.environ[\"AICORE_BASE_URL\"]=config_data[\"serviceurls\"][\"AI_API_URL\"]\n",
    "os.environ[\"AICORE_RESOURCE_GROUP\"]=\"default\"\n",
    "\n",
    "import base64\n",
    "import variables\n",
    "from gen_ai_hub.proxy.langchain.openai import ChatOpenAI\n",
    " \n",
    "with open(\"documents/ai-foundation-architecture.png\", \"rb\") as image_file:\n",
    "    image_data = base64.b64encode(image_file.read()).decode('utf-8')\n",
    "\n",
    "message= {\"role\": \"user\", \"content\": [\n",
    "            {\"type\": \"text\", \"text\": \"Describe the images as an alternative text\"},\n",
    "            {\"type\": \"image_url\", \"image_url\": {\n",
    "                \"url\": f\"data:image/png;base64,{image_data}\"}\n",
    "            }\n",
    "        ]}\n",
    "    \n",
    "\n",
    "model = ChatOpenAI(deployment_id=variables.DEPLOYMENT_ID_MULTIMODAL)\n",
    "\n",
    "response = model.invoke([message])\n",
    "print(response.content)"
   ]
  }
 ],
 "metadata": {
  "language_info": {
   "name": "python"
  }
 },
 "nbformat": 4,
 "nbformat_minor": 2
}
