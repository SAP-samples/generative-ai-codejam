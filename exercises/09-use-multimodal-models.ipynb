{
 "cells": [
  {
   "cell_type": "markdown",
   "metadata": {},
   "source": [
    "# Use Multimodal Models\n",
    "\n",
    "This exercise is optional if you have more time and would like to try out multimodal models. Multimodal models can use different inputs such as text, audio and images. In Generative AI Hub on SAP AI Core you can access `gpt-4o` which is multimodal.\n",
    "\n",
    "👉 Go back to [01-deploy-model](01-deploy-model.md) to deploy gpt-4o.\n",
    "\n",
    "👉 Then assign the deployment id to the `DEPLOYMENT_ID_MULTIMODAL` in [variables.py](variables.py).\n",
    "\n",
    "👉 Now run the code snippet below to get a description for the AI Foundation Architecture. These descriptions can then for example be used as alternative text for screen readers or other assistive tech."
   ]
  },
  {
   "cell_type": "code",
   "execution_count": 2,
   "metadata": {},
   "outputs": [],
   "source": [
    "import os\n",
    "import json\n",
    "\n",
    "with open('/home/user/projects/generative-ai-codejam/.aicore-config.json', 'r') as config_file:\n",
    "    config_data = json.load(config_file)\n",
    "\n",
    "os.environ[\"AICORE_AUTH_URL\"]=config_data[\"url\"]+\"/oauth/token\"\n",
    "os.environ[\"AICORE_CLIENT_ID\"]=config_data[\"clientid\"]\n",
    "os.environ[\"AICORE_CLIENT_SECRET\"]=config_data[\"clientsecret\"]\n",
    "os.environ[\"AICORE_BASE_URL\"]=config_data[\"serviceurls\"][\"AI_API_URL\"]\n",
    "os.environ[\"AICORE_RESOURCE_GROUP\"]=\"default\"\n",
    "\n",
    "import base64\n",
    "import variables\n",
    "\n",
    "from gen_ai_hub.proxy.langchain.openai import ChatOpenAI"
   ]
  },
  {
   "cell_type": "code",
   "execution_count": 3,
   "metadata": {},
   "outputs": [
    {
     "name": "stdout",
     "output_type": "stream",
     "text": [
      "**Alternative Text Description:**\n",
      "\n",
      "The image is a structured diagram titled \"AI Foundation on SAP BTP.\" It is divided into several sections:\n",
      "\n",
      "1. **Top Section:** Labeled \"AI Foundation on Business Technology Platform,\" which includes various AI services such as Document Processing, Recommendation, and Machine Translation.\n",
      "\n",
      "2. **Middle Section:** Features \"Generative AI Management,\" with three components: Toolset, Trust & Control, and Access. Adjacent to it is \"AI Workload Management,\" which includes Training and Inference.\n",
      "\n",
      "3. **Lower Middle Section:** Labeled \"Business Data & Context,\" containing elements like Vector Engine and Data Management.\n",
      "\n",
      "4. **Bottom Section:** Titled \"Foundation Models,\" with options for SAP built, Hosted, and Remote, along with Fine-tuned.\n",
      "\n",
      "5. **Lifecycle Management:** A blue box at the bottom indicates Lifecycle Management.\n",
      "\n",
      "The overall layout consists of colored boxes and labeled components arranged in a clear, hierarchical format.\n"
     ]
    }
   ],
   "source": [
    "with open(\"documents/ai-foundation-architecture.png\", \"rb\") as image_file:\n",
    "    image_data = base64.b64encode(image_file.read()).decode('utf-8')\n",
    "\n",
    "message= {\"role\": \"user\", \"content\": [\n",
    "            {\"type\": \"text\", \"text\": \"Describe the images as an alternative text\"},\n",
    "            {\"type\": \"image_url\", \"image_url\": {\n",
    "                \"url\": f\"data:image/png;base64,{image_data}\"}\n",
    "            }\n",
    "        ]}\n",
    "    \n",
    "\n",
    "model = ChatOpenAI(deployment_id=variables.DEPLOYMENT_ID_MULTIMODAL)\n",
    "\n",
    "response = model.invoke([message])\n",
    "print(response.content)"
   ]
  },
  {
   "cell_type": "code",
   "execution_count": 7,
   "metadata": {},
   "outputs": [
    {
     "name": "stdout",
     "output_type": "stream",
     "text": [
      "Sure! Here are the ingredients and instructions extracted into two separate JSON files.\n",
      "\n",
      "**Ingredients JSON:**\n",
      "\n",
      "```json\n",
      "{\n",
      "  \"dry_ingredients\": {\n",
      "    \"all_purpose_flour\": \"260 g\",\n",
      "    \"sugar\": \"200 g\",\n",
      "    \"baking_soda\": \"6 g\",\n",
      "    \"salt\": \"3 g\"\n",
      "  },\n",
      "  \"wet_ingredients\": {\n",
      "    \"banana\": \"225 g\",\n",
      "    \"large_eggs\": \"2\",\n",
      "    \"vegetable_oil\": \"100 g\",\n",
      "    \"whole_milk\": \"55 g\",\n",
      "    \"vanilla_extract\": \"5 g\"\n",
      "  },\n",
      "  \"toppings\": {\n",
      "    \"chocolate_chips\": \"100 g\",\n",
      "    \"walnuts\": \"100 g (Optional)\"\n",
      "  }\n",
      "}\n",
      "```\n",
      "\n",
      "**Instructions JSON:**\n",
      "\n",
      "```json\n",
      "{\n",
      "  \"directions\": [\n",
      "    \"Preheat oven to 180 °C\",\n",
      "    \"Mash banana in a bowl\",\n",
      "    \"Combine banana and other wet ingredients together in the same bowl\",\n",
      "    \"Mix all dry ingredients together in a separate bowl\",\n",
      "    \"Use a whisk to combine dry mixture into wet mixture until smooth\",\n",
      "    \"Pour mixture into a greased/buttered loaf pan\",\n",
      "    \"Place the pan into preheated oven on the middle rack and bake for about 60 minutes or until a toothpick comes out clean\",\n",
      "    \"Enjoy!\"\n",
      "  ]\n",
      "}\n",
      "```\n"
     ]
    }
   ],
   "source": [
    "with open(\"documents/bananabread.png\", \"rb\") as image_file:\n",
    "    image_data = base64.b64encode(image_file.read()).decode('utf-8')\n",
    "\n",
    "message= {\"role\": \"user\", \"content\": [\n",
    "            {\"type\": \"text\", \"text\": \"Extract the ingredients and instructions in two different json files\"},\n",
    "            {\"type\": \"image_url\", \"image_url\": {\n",
    "                \"url\": f\"data:image/png;base64,{image_data}\"}\n",
    "            }\n",
    "        ]}\n",
    "    \n",
    "\n",
    "model = ChatOpenAI(deployment_id=variables.DEPLOYMENT_ID_MULTIMODAL)\n",
    "\n",
    "response = model.invoke([message])\n",
    "print(response.content)"
   ]
  }
 ],
 "metadata": {
  "language_info": {
   "name": "python"
  }
 },
 "nbformat": 4,
 "nbformat_minor": 2
}
