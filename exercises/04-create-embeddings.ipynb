{
 "cells": [
  {
   "cell_type": "markdown",
   "metadata": {},
   "source": [
    "# Create embeddings with Generative AI Hub\n",
    "## Check your connection to Generative AI Hub\n",
    "\n",
    "To connect to generative AI Hub we will need our SAP AI Core service key information, you can find that in your SAP BTP subaccount.\n",
    "\n",
    "👉 Create a .aicore-config.json file in the generative-ai-codejam directory.\n",
    "\n",
    "👉 The file should look like the file below. \n",
    "\n",
    "☝️ Make sure to change the values into your values!\n",
    "\n",
    "```json\n",
    "{\n",
    "    \"AICORE_AUTH_URL\": \"https://nora-von-thenen-free-tier-j4p6s82o.authentication.eu10.hana.ondemand.com/oauth/token\", <--YOUR **url** HERE\n",
    "    \"AICORE_CLIENT_ID\": \"sb-ecf82d39-84fe-456b-8126-84a259aea360!b129223|aicore!b540\", <--YOUR **clientid** HERE\n",
    "    \"AICORE_CLIENT_SECRET\": \"---\", <--YOUR **clientsecret** HERE\n",
    "    \"AICORE_BASE_URL\": \"https://api.ai.prod.eu-central-1.aws.ml.hana.ondemand.com\", <--YOUR **AI_API_URL** HERE\n",
    "    \"AICORE_RESOURCE_GROUP\": \"default\" <--YOUR **RESOURCE GROUP** created in SAP AI Core HERE\n",
    "}\n",
    "```"
   ]
  },
  {
   "cell_type": "code",
   "execution_count": 1,
   "metadata": {},
   "outputs": [],
   "source": [
    "import os\n",
    "import json\n",
    "\n",
    "with open('/home/user/projects/generative-ai-codejam/.aicore-config.json', 'r') as config_file:\n",
    "    config_data = json.load(config_file)\n",
    "\n",
    "os.environ[\"AICORE_AUTH_URL\"]=config_data[\"AICORE_AUTH_URL\"]\n",
    "os.environ[\"AICORE_CLIENT_ID\"]=config_data[\"AICORE_CLIENT_ID\"]\n",
    "os.environ[\"AICORE_CLIENT_SECRET\"]=config_data[\"AICORE_CLIENT_SECRET\"]\n",
    "os.environ[\"AICORE_BASE_URL\"]=config_data[\"AICORE_BASE_URL\"]\n",
    "os.environ[\"AICORE_RESOURCE_GROUP\"]=config_data[\"AICORE_RESOURCE_GROUP\"]"
   ]
  },
  {
   "cell_type": "markdown",
   "metadata": {},
   "source": [
    "To connect to generative AI Hub we will use the Python SDK. You can access the package information here: [Python SDK](https://pypi.org/project/generative-ai-hub-sdk/).\n",
    "\n",
    "👉 use the following command to install the SDK:\n",
    "\n",
    "```sh\n",
    "pip install generative-ai-hub-sdk[langchain]\n",
    "```"
   ]
  },
  {
   "cell_type": "code",
   "execution_count": null,
   "metadata": {},
   "outputs": [],
   "source": [
    "from gen_ai_hub.proxy.native.openai import embeddings\n",
    "from scipy import spatial"
   ]
  },
  {
   "cell_type": "markdown",
   "metadata": {},
   "source": [
    "## Create embeddings\n",
    "Define the method **get_embedding()**."
   ]
  },
  {
   "cell_type": "code",
   "execution_count": null,
   "metadata": {},
   "outputs": [],
   "source": [
    "def get_embedding(input_text):\n",
    "    response = embeddings.create(\n",
    "        input=input_text,            \n",
    "        model_name=\"text-embedding-ada-002\"\n",
    "    )\n",
    "    embedding = response.data[0].embedding\n",
    "    return embedding\n"
   ]
  },
  {
   "cell_type": "markdown",
   "metadata": {},
   "source": [
    "Define the method **get_cosine_similarity()**."
   ]
  },
  {
   "cell_type": "code",
   "execution_count": null,
   "metadata": {},
   "outputs": [],
   "source": [
    "def get_cosine_similarity(vector_1, vector_2):\n",
    "    return 1 - spatial.distance.cosine(vector_1, vector_2)"
   ]
  },
  {
   "cell_type": "markdown",
   "metadata": {},
   "source": [
    "Get embeddings for the words: **apple, orange, phone** and for the phrases: **I love dogs, I love animals, I hate cats.**"
   ]
  },
  {
   "cell_type": "code",
   "execution_count": null,
   "metadata": {},
   "outputs": [],
   "source": [
    "apple_embedding = get_embedding(\"apple\")\n",
    "orange_embedding = get_embedding(\"orange\")\n",
    "phone_embedding = get_embedding(\"phone\")\n",
    "dog_embedding = get_embedding(\"I love dogs\")\n",
    "animals_embedding = get_embedding(\"I love animals\")\n",
    "cat_embedding = get_embedding(\"I hate cats\")\n",
    "\n",
    "print(apple_embedding)"
   ]
  },
  {
   "cell_type": "markdown",
   "metadata": {},
   "source": [
    "👉 Calculate similarities between the e,beddings of the words and phrases from above and find the most similar vectors. You can follow the example below."
   ]
  },
  {
   "cell_type": "code",
   "execution_count": null,
   "metadata": {},
   "outputs": [
    {
     "name": "stdout",
     "output_type": "stream",
     "text": [
      "apple-orange, apple-phone, orange-phone\n",
      "0.8652214919318741\n",
      "0.8576399478500112\n",
      "0.8245533880312303\n",
      "lovedogs-loveanimals, lovedogs-hatecats\n",
      "0.9427226292650909\n",
      "0.8387914617349138\n"
     ]
    }
   ],
   "source": [
    "print(\"apple-orange\")\n",
    "print(get_cosine_similarity(apple_embedding, orange_embedding))"
   ]
  }
 ],
 "metadata": {
  "kernelspec": {
   "display_name": "Python 3",
   "language": "python",
   "name": "python3"
  },
  "language_info": {
   "codemirror_mode": {
    "name": "ipython",
    "version": 3
   },
   "file_extension": ".py",
   "mimetype": "text/x-python",
   "name": "python",
   "nbconvert_exporter": "python",
   "pygments_lexer": "ipython3",
   "version": "3.11.2"
  }
 },
 "nbformat": 4,
 "nbformat_minor": 2
}
